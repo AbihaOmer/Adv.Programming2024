{
 "cells": [
  {
   "cell_type": "markdown",
   "metadata": {},
   "source": [
    "## why Functions?\n",
    "1. to make code more readable\n",
    "2. to make code more efficient\n",
    "3. to make code more maintainable\n",
    "4. to make code more reusable\n",
    "5. to make code more extensible"
   ]
  },
  {
   "cell_type": "code",
   "execution_count": 1,
   "metadata": {},
   "outputs": [],
   "source": [
    "# function\n",
    "\n",
    "def welcome(msg)->str:\n",
    "    \"\"\"\n",
    "    Description: This function will show a welcome message\n",
    "    \n",
    "\n",
    "    Return : This function will return the welcome message \n",
    "    \"\"\""
   ]
  },
  {
   "cell_type": "code",
   "execution_count": 2,
   "metadata": {},
   "outputs": [
    {
     "name": "stdout",
     "output_type": "stream",
     "text": [
      "Learning functions in python\n"
     ]
    }
   ],
   "source": [
    "def welcome():\n",
    "    print(\"Learning functions in python\")\n",
    "welcome()"
   ]
  },
  {
   "cell_type": "code",
   "execution_count": 3,
   "metadata": {},
   "outputs": [
    {
     "data": {
      "text/plain": [
       "'Learning functions in python'"
      ]
     },
     "execution_count": 3,
     "metadata": {},
     "output_type": "execute_result"
    }
   ],
   "source": [
    "def welcome():\n",
    "    return \"Learning functions in python\"\n",
    "welcome()"
   ]
  },
  {
   "cell_type": "code",
   "execution_count": 4,
   "metadata": {},
   "outputs": [
    {
     "name": "stdout",
     "output_type": "stream",
     "text": [
      "Learning functions in python\n"
     ]
    }
   ],
   "source": [
    "def welcome():\n",
    "    return \"Learning functions in python\"\n",
    "print(welcome())"
   ]
  },
  {
   "cell_type": "code",
   "execution_count": 10,
   "metadata": {},
   "outputs": [
    {
     "name": "stdout",
     "output_type": "stream",
     "text": [
      "Learning functions in python with Advance Programming\n"
     ]
    }
   ],
   "source": [
    "def welcome()->str:\n",
    "    ''' \n",
    "    Description: This function will print a welcome Message\n",
    "    \n",
    "    Return : This function will return the welcome message \n",
    "    '''\n",
    "    return \"Learning functions in python\"\n",
    "msg = welcome()\n",
    "print(msg + \" with Advance Programming\")"
   ]
  },
  {
   "cell_type": "markdown",
   "metadata": {},
   "source": [
    "### Parameterized a function\n"
   ]
  },
  {
   "cell_type": "code",
   "execution_count": 11,
   "metadata": {},
   "outputs": [
    {
     "name": "stdout",
     "output_type": "stream",
     "text": [
      "Learning functions in python with Advance Programming\n"
     ]
    }
   ],
   "source": [
    "def welcome(msg)->str:\n",
    "    ''' \n",
    "    Description: This function will print a welcome Message\n",
    "    \n",
    "    Return : This function will return the welcome message \n",
    "    '''\n",
    "    return msg\n",
    "msg = welcome(\"Learning functions in python\")\n",
    "print(msg + \" with Advance Programming\")"
   ]
  },
  {
   "cell_type": "markdown",
   "metadata": {},
   "source": [
    "### Writing And Calling Functions"
   ]
  },
  {
   "cell_type": "code",
   "execution_count": 13,
   "metadata": {},
   "outputs": [
    {
     "name": "stdout",
     "output_type": "stream",
     "text": [
      "4\n"
     ]
    }
   ],
   "source": [
    "def square(): #function to find square of a number\n",
    "    \"\"\"This function is used for only square\"\"\"  # \"\"\"doc string\"\"\"\n",
    "    x = 2**2  # expression\n",
    "    print(x)  # statement\n",
    "\n",
    "square()"
   ]
  },
  {
   "cell_type": "code",
   "execution_count": 14,
   "metadata": {},
   "outputs": [
    {
     "name": "stdout",
     "output_type": "stream",
     "text": [
      "Total of z is:  25\n"
     ]
    }
   ],
   "source": [
    "def myfunc(): # function with no parameters\n",
    "    x = 5\n",
    "    y = 20\n",
    "    z = x + y # expression\n",
    "    print(\"Total of z is: \",z)\n",
    "myfunc() # function with no arguments"
   ]
  },
  {
   "cell_type": "code",
   "execution_count": 15,
   "metadata": {},
   "outputs": [
    {
     "name": "stdout",
     "output_type": "stream",
     "text": [
      "Hello Python\n"
     ]
    }
   ],
   "source": [
    "def myfunc(): # function with no parameters\n",
    "    name = \"Python\"\n",
    "    call = \"Hello \"+ name\n",
    "    print(call)\n",
    "myfunc() # function with no arguments"
   ]
  },
  {
   "cell_type": "markdown",
   "metadata": {},
   "source": [
    "## One Parameter & One Argument Function"
   ]
  },
  {
   "cell_type": "code",
   "execution_count": 16,
   "metadata": {},
   "outputs": [
    {
     "name": "stdout",
     "output_type": "stream",
     "text": [
      "First Name Asad\n"
     ]
    }
   ],
   "source": [
    "def myfunc(fname): # function with one paramenter\n",
    "    print(\"First Name \"+ fname)\n",
    "\n",
    "myfunc(\"Asad\") # function with one argument"
   ]
  },
  {
   "cell_type": "code",
   "execution_count": 17,
   "metadata": {},
   "outputs": [
    {
     "ename": "TypeError",
     "evalue": "myfunc() missing 1 required positional argument: 'fname'",
     "output_type": "error",
     "traceback": [
      "\u001b[1;31m---------------------------------------------------------------------------\u001b[0m",
      "\u001b[1;31mTypeError\u001b[0m                                 Traceback (most recent call last)",
      "Cell \u001b[1;32mIn[17], line 4\u001b[0m\n\u001b[0;32m      1\u001b[0m \u001b[38;5;28;01mdef\u001b[39;00m \u001b[38;5;21mmyfunc\u001b[39m(fname): \u001b[38;5;66;03m# function with one paramenter\u001b[39;00m\n\u001b[0;32m      2\u001b[0m     \u001b[38;5;28mprint\u001b[39m(\u001b[38;5;124m\"\u001b[39m\u001b[38;5;124mFirst Name \u001b[39m\u001b[38;5;124m\"\u001b[39m\u001b[38;5;241m+\u001b[39m fname)\n\u001b[1;32m----> 4\u001b[0m \u001b[43mmyfunc\u001b[49m\u001b[43m(\u001b[49m\u001b[43m)\u001b[49m \u001b[38;5;66;03m# function with one argument\u001b[39;00m\n",
      "\u001b[1;31mTypeError\u001b[0m: myfunc() missing 1 required positional argument: 'fname'"
     ]
    }
   ],
   "source": [
    "def myfunc(fname): # function with one paramenter\n",
    "    print(\"First Name \"+ fname)\n",
    "\n",
    "myfunc() # function with one argument"
   ]
  },
  {
   "cell_type": "code",
   "execution_count": 18,
   "metadata": {},
   "outputs": [
    {
     "name": "stdout",
     "output_type": "stream",
     "text": [
      "40  is even number\n"
     ]
    }
   ],
   "source": [
    "def even_odd (num): #Even odd test\n",
    "    \"\"\" This function will check whether a number is even or odd\"\"\"\n",
    "    if num % 2 ==0:\n",
    "        print (num, ' is even number')\n",
    "    else:\n",
    "        print (num, ' is odd number')\n",
    "even_odd(40)"
   ]
  },
  {
   "cell_type": "markdown",
   "metadata": {},
   "source": [
    "## Two Parameter & Two Argument Function"
   ]
  },
  {
   "cell_type": "code",
   "execution_count": 19,
   "metadata": {},
   "outputs": [
    {
     "name": "stdout",
     "output_type": "stream",
     "text": [
      "Name :-  Ahmed\n",
      "User ID is :-  12312313123\n"
     ]
    }
   ],
   "source": [
    "def details(name,userid): # Function to print User details\n",
    "    print('Name :- ', name)\n",
    "    print('User ID is :- ', userid)\n",
    "    \n",
    "details('Ahmed',12312313123)"
   ]
  },
  {
   "cell_type": "markdown",
   "metadata": {},
   "source": []
  },
  {
   "cell_type": "code",
   "execution_count": 20,
   "metadata": {},
   "outputs": [
    {
     "name": "stdout",
     "output_type": "stream",
     "text": [
      "The first value is:  10\n",
      "The second value is:  20\n",
      "The result is:  30\n"
     ]
    }
   ],
   "source": [
    "def addition(a,b):\n",
    "    print(\"The first value is: \",a)\n",
    "    print(\"The second value is: \",b)\n",
    "    print(\"The result is: \",a+b)\n",
    "addition(10,20) # Calling function"
   ]
  },
  {
   "cell_type": "code",
   "execution_count": 21,
   "metadata": {},
   "outputs": [
    {
     "name": "stdout",
     "output_type": "stream",
     "text": [
      "First Name:  Ahmed\n",
      "Last Name:  Ali\n"
     ]
    }
   ],
   "source": [
    "def info(fname, lname):\n",
    "    print(\"First Name: \",fname)\n",
    "    print(\"Last Name: \",lname)\n",
    "    \n",
    "info(\"Ahmed\",\"Ali\")"
   ]
  },
  {
   "cell_type": "code",
   "execution_count": 22,
   "metadata": {},
   "outputs": [
    {
     "name": "stdout",
     "output_type": "stream",
     "text": [
      "10\n"
     ]
    }
   ],
   "source": [
    "def add_numbers(first_number, second_number):\n",
    "    total = first_number + second_number\n",
    "    print(total)\n",
    "add_numbers(2,8)"
   ]
  },
  {
   "cell_type": "code",
   "execution_count": 23,
   "metadata": {},
   "outputs": [
    {
     "name": "stdout",
     "output_type": "stream",
     "text": [
      "Length is:  4\n",
      "Breadth is:  5\n",
      "The result of area is:  20\n",
      "The result of perameter is:  18\n"
     ]
    }
   ],
   "source": [
    "def AreaPerameter(a,b):\n",
    "    a = int(a)\n",
    "    b = int(b)\n",
    "    print(\"Length is: \",a)\n",
    "    print(\"Breadth is: \",b)\n",
    "    Area = a * b\n",
    "    Perameter = 2*a + 2*b\n",
    "    print(\"The result of area is: \",Area)\n",
    "    print(\"The result of perameter is: \",Perameter)\n",
    "    return\n",
    "\n",
    "h = input(\"Enter length \")\n",
    "w = input(\"Enter width \")\n",
    "AreaPerameter(h,w)"
   ]
  },
  {
   "cell_type": "code",
   "execution_count": 24,
   "metadata": {},
   "outputs": [
    {
     "name": "stdout",
     "output_type": "stream",
     "text": [
      "-----Addition-----\n",
      "The first value is:  100\n",
      "The second value is:  20\n",
      "The result is:  120\n",
      "\n",
      "-----Subtraction-----\n",
      "The first value is:  50\n",
      "The second value is:  20\n",
      "The result is:  30\n",
      "\n",
      "-----Multiplication-----\n",
      "The first value is:  5\n",
      "The second value is:  10\n",
      "The result is:  50\n",
      "\n",
      "-----Division-----\n",
      "The first value is:  36\n",
      "The second value is:  4\n",
      "The result is:  9.0\n",
      "\n",
      "-----Reminder-----\n",
      "The first value is:  50\n",
      "The second value is:  20\n",
      "The result is:  10\n"
     ]
    }
   ],
   "source": [
    "print(\"-----Addition-----\")\n",
    "def addition(x,y):\n",
    "    print(\"The first value is: \",x)\n",
    "    print(\"The second value is: \",y)\n",
    "    print(\"The result is: \",x+y)\n",
    "addition(100,20) # Calling function\n",
    "print()\n",
    "# for Subtraction\n",
    "print(\"-----Subtraction-----\")\n",
    "def subtraction(x,y):\n",
    "    print(\"The first value is: \",x)\n",
    "    print(\"The second value is: \",y)\n",
    "    print(\"The result is: \",x-y)\n",
    "subtraction(50,20) # Calling function\n",
    "print()\n",
    "# for Multiplication\n",
    "print(\"-----Multiplication-----\")\n",
    "def multiplication(x,y):\n",
    "    print(\"The first value is: \",x)\n",
    "    print(\"The second value is: \",y)\n",
    "    print(\"The result is: \",x*y)\n",
    "multiplication(5,10) # Calling function\n",
    "print()\n",
    "# for division\n",
    "print(\"-----Division-----\")\n",
    "def division(x,y):\n",
    "    print(\"The first value is: \",x)\n",
    "    print(\"The second value is: \",y)\n",
    "    print(\"The result is: \",x/y)\n",
    "division(36,4) # Calling function\n",
    "print()\n",
    "# for reminder\n",
    "print(\"-----Reminder-----\")\n",
    "def reminder(x,y):\n",
    "    print(\"The first value is: \",x)\n",
    "    print(\"The second value is: \",y)\n",
    "    print(\"The result is: \",x%y)\n",
    "reminder(50,20) # Calling function"
   ]
  },
  {
   "cell_type": "markdown",
   "metadata": {},
   "source": [
    "### Three Parameter & Three Argument Function"
   ]
  },
  {
   "cell_type": "code",
   "execution_count": 25,
   "metadata": {},
   "outputs": [
    {
     "name": "stdout",
     "output_type": "stream",
     "text": [
      "Sajid   Majeed\n"
     ]
    }
   ],
   "source": [
    "def fullname (firstname , middlename ,lastname): #Concatenate Strings\n",
    "    fullname = \"{} {} {}\".format(firstname,middlename,lastname)\n",
    "    print (fullname)\n",
    "fullname('Sajid' , ' ' , 'Majeed')"
   ]
  },
  {
   "cell_type": "code",
   "execution_count": 27,
   "metadata": {},
   "outputs": [
    {
     "name": "stdout",
     "output_type": "stream",
     "text": [
      "Naseem Raheel Muhammad\n"
     ]
    }
   ],
   "source": [
    "def fullname (firstname , middlename ,lastname): #Concatenate Strings\n",
    "    fullname = \"{} {} {}\".format(firstname,middlename,lastname)\n",
    "    print (fullname)\n",
    "fullname(lastname = 'Muhammad' , middlename='Raheel' , firstname='Naseem') "
   ]
  },
  {
   "cell_type": "code",
   "execution_count": 12,
   "metadata": {},
   "outputs": [
    {
     "name": "stdout",
     "output_type": "stream",
     "text": [
      "88 741\n"
     ]
    }
   ],
   "source": [
    "## function to add even and odd number\n",
    "def even_odd_sum(lst):\n",
    "    \"\"\"\n",
    "    Description: This function will add even and odd number in a list\n",
    "    Return : This function will return the sum of even and odd number in a list\n",
    "    \"\"\"\n",
    "    even_sum=0\n",
    "    odd_sum=0\n",
    "    for i in lst:\n",
    "        if i%2==0:\n",
    "            even_sum+=i\n",
    "        else:\n",
    "            odd_sum+=i\n",
    "    return even_sum,odd_sum\n",
    "\n",
    "sum1,sum2=even_odd_sum([1,2,3,45,6,677,7,8,8,54,4,3,5,6])\n",
    "print(sum1,sum2)"
   ]
  },
  {
   "cell_type": "markdown",
   "metadata": {},
   "source": [
    "## Multiple Parameter & Multiple Arguments Using \"**args\""
   ]
  },
  {
   "cell_type": "markdown",
   "metadata": {},
   "source": [
    "**args\n",
    "\n",
    "args allows us to pass a variable number of non-keyword arguments to a Python function. In the function, we should use an asterisk () before the parameter name to specify how many arguments we want to pass to the function."
   ]
  },
  {
   "cell_type": "code",
   "execution_count": 28,
   "metadata": {},
   "outputs": [
    {
     "name": "stdout",
     "output_type": "stream",
     "text": [
      "(1, 2, 3, 4, 5, 6, 7, 8, 9, 10)\n"
     ]
    }
   ],
   "source": [
    "def func1(*args):\n",
    "    print(args)\n",
    "func1(1,2,3,4,5,6,7,8,9,10)"
   ]
  },
  {
   "cell_type": "code",
   "execution_count": 29,
   "metadata": {},
   "outputs": [
    {
     "name": "stdout",
     "output_type": "stream",
     "text": [
      "1\n",
      "2\n",
      "3\n",
      "4\n",
      "5\n",
      "6\n",
      "7\n",
      "8\n",
      "9\n",
      "10\n"
     ]
    }
   ],
   "source": [
    "def func1(*args):\n",
    "    for i in args:\n",
    "        print(i)\n",
    "func1(1,2,3,4,5,6,7,8,9,10)"
   ]
  },
  {
   "cell_type": "code",
   "execution_count": 30,
   "metadata": {},
   "outputs": [
    {
     "name": "stdout",
     "output_type": "stream",
     "text": [
      "('Sajid', 23424, 'sdfsdfsdf', 123123)\n"
     ]
    }
   ],
   "source": [
    "def UserDetails(*args):\n",
    "    print(args)  \n",
    "    \n",
    "UserDetails(\"Sajid\",23424,\"sdfsdfsdf\",123123)"
   ]
  },
  {
   "cell_type": "code",
   "execution_count": 31,
   "metadata": {},
   "outputs": [
    {
     "name": "stdout",
     "output_type": "stream",
     "text": [
      "The youngest programming is Typescript\n"
     ]
    }
   ],
   "source": [
    "def my_function(*prog):\n",
    "    print(\"The youngest programming is \" + prog[0])\n",
    "\n",
    "my_function(\"Typescript\", \"C++\", \"Java\")"
   ]
  },
  {
   "cell_type": "code",
   "execution_count": 32,
   "metadata": {},
   "outputs": [
    {
     "name": "stdout",
     "output_type": "stream",
     "text": [
      "1\n",
      "2\n",
      "3\n"
     ]
    }
   ],
   "source": [
    "def func(*args):\n",
    "    # args will be a tuple containing all values that are passed in\n",
    "    for i in args:\n",
    "        print(i)\n",
    "func(1, 2, 3) # Calling it with 3 argument"
   ]
  },
  {
   "cell_type": "markdown",
   "metadata": {},
   "source": [
    "## Multiple Parameter & Multiple Arguments Using \"**kwargs\"\n"
   ]
  },
  {
   "cell_type": "markdown",
   "metadata": {},
   "source": [
    "Python uses a special syntax called kwargs in function definitions. It is used to pass through a keyworded, variable-length argument list. The double star in the name allows us to pass any number of arguments, or keywords, through a function's definition."
   ]
  },
  {
   "cell_type": "code",
   "execution_count": 35,
   "metadata": {},
   "outputs": [
    {
     "name": "stdout",
     "output_type": "stream",
     "text": [
      "{'Name': 'Sajid', 'ID': 7412, 'Pincode': 41102, 'Age': 33}\n"
     ]
    }
   ],
   "source": [
    "def UserDetails(**kwargs): # **kwargs use only dictionary\n",
    "    print(kwargs)\n",
    "UserDetails(Name='Sajid' , ID=7412 , Pincode=41102 , Age= 33)\n"
   ]
  },
  {
   "cell_type": "code",
   "execution_count": 36,
   "metadata": {},
   "outputs": [
    {
     "name": "stdout",
     "output_type": "stream",
     "text": [
      "Name :- Raheel\n",
      "ID :- 7412\n",
      "Pincode :- 41102\n",
      "Age :- 300\n",
      "Country :- Pakistan\n",
      "language :- Urdu\n"
     ]
    }
   ],
   "source": [
    "def UserDetails(**kwargs):\n",
    "    for key,val in kwargs.items():\n",
    "        print(\"{} :- {}\".format(key,val))\n",
    "UserDetails(Name='Raheel' , ID=7412 , Pincode=41102 , Age= 300 , Country= 'Pakistan',language='Urdu')"
   ]
  },
  {
   "cell_type": "code",
   "execution_count": 37,
   "metadata": {},
   "outputs": [
    {
     "name": "stdout",
     "output_type": "stream",
     "text": [
      "Name :- Asif\n",
      "ID :- 7412\n",
      "Pincode :- 41102\n",
      "Age :- 33\n",
      "Country :- Pakistan\n",
      "language :- Urdu\n"
     ]
    }
   ],
   "source": [
    "mydict = {'Name': 'Asif', 'ID': 7412, 'Pincode': 41102, 'Age': 33, 'Country': \"Pakistan\",\"language\":\"Urdu\"}\n",
    "UserDetails(**mydict)"
   ]
  },
  {
   "cell_type": "code",
   "execution_count": 38,
   "metadata": {},
   "outputs": [
    {
     "name": "stdout",
     "output_type": "stream",
     "text": [
      "\n",
      "Data type of argument: <class 'dict'>\n",
      "Firstname is Ali\n",
      "Lastname is Imran\n",
      "Age is 22\n",
      "Phone is 1234567890\n",
      "\n",
      "Data type of argument: <class 'dict'>\n",
      "Firstname is John\n",
      "Lastname is Malton\n",
      "Email is johnmalton@nomail.com\n",
      "Country is Wakanda\n",
      "Age is 25\n",
      "Phone is 9876543210\n"
     ]
    }
   ],
   "source": [
    "def intro(**data):\n",
    "    print(\"\\nData type of argument:\",type(data))\n",
    "\n",
    "    for key, value in data.items():\n",
    "        print(\"{} is {}\".format(key,value))\n",
    "\n",
    "intro(Firstname=\"Ali\", Lastname=\"Imran\", Age=22, Phone=1234567890)\n",
    "intro(Firstname=\"John\", Lastname=\"Malton\", Email=\"johnmalton@nomail.com\", Country=\"Wakanda\", Age=25, Phone=9876543210)"
   ]
  },
  {
   "cell_type": "markdown",
   "metadata": {},
   "source": [
    "## Local And Global Variable"
   ]
  },
  {
   "cell_type": "markdown",
   "metadata": {},
   "source": [
    "Local Variable\n",
    "\n",
    "In Python or any other programming languages, the definition of local variables remains the same, which is \"A variable declared inside the function is called local function\". We can access a local variable inside but not outside the function."
   ]
  },
  {
   "cell_type": "markdown",
   "metadata": {},
   "source": [
    "Global Variable\n",
    "\n",
    "Python allows you to access global variables in a program both inside and outside of a function. A global variable in Python is often declared as the top of the program, or the beginning of a program."
   ]
  },
  {
   "cell_type": "code",
   "execution_count": 39,
   "metadata": {},
   "outputs": [
    {
     "name": "stdout",
     "output_type": "stream",
     "text": [
      "I love Python\n"
     ]
    }
   ],
   "source": [
    "def function():\n",
    "    # local variable\n",
    "    s = \"I love Python\"\n",
    "    print(s)\n",
    "\n",
    "function()"
   ]
  },
  {
   "cell_type": "code",
   "execution_count": 40,
   "metadata": {},
   "outputs": [
    {
     "name": "stdout",
     "output_type": "stream",
     "text": [
      "2\n"
     ]
    }
   ],
   "source": [
    "def add():\n",
    "    c = 2\n",
    "    print(c)\n",
    "add() "
   ]
  },
  {
   "cell_type": "code",
   "execution_count": 41,
   "metadata": {},
   "outputs": [
    {
     "name": "stdout",
     "output_type": "stream",
     "text": [
      "('Hello: ', 'Python')\n"
     ]
    }
   ],
   "source": [
    "def calling():\n",
    "    y=\"Hello: \",\"Python\"\n",
    "    print(y)\n",
    "calling()"
   ]
  },
  {
   "cell_type": "code",
   "execution_count": 43,
   "metadata": {},
   "outputs": [
    {
     "ename": "UnboundLocalError",
     "evalue": "cannot access local variable 'c' where it is not associated with a value",
     "output_type": "error",
     "traceback": [
      "\u001b[1;31m---------------------------------------------------------------------------\u001b[0m",
      "\u001b[1;31mUnboundLocalError\u001b[0m                         Traceback (most recent call last)",
      "Cell \u001b[1;32mIn[43], line 5\u001b[0m\n\u001b[0;32m      3\u001b[0m     c\u001b[38;5;241m=\u001b[39mc\u001b[38;5;241m+\u001b[39m\u001b[38;5;241m2\u001b[39m\n\u001b[0;32m      4\u001b[0m     \u001b[38;5;28mprint\u001b[39m(c)\n\u001b[1;32m----> 5\u001b[0m \u001b[43madd\u001b[49m\u001b[43m(\u001b[49m\u001b[43m)\u001b[49m \u001b[38;5;66;03m# Raise Error its global scope\u001b[39;00m\n",
      "Cell \u001b[1;32mIn[43], line 3\u001b[0m, in \u001b[0;36madd\u001b[1;34m()\u001b[0m\n\u001b[0;32m      2\u001b[0m \u001b[38;5;28;01mdef\u001b[39;00m \u001b[38;5;21madd\u001b[39m():\n\u001b[1;32m----> 3\u001b[0m     c\u001b[38;5;241m=\u001b[39m\u001b[43mc\u001b[49m\u001b[38;5;241m+\u001b[39m\u001b[38;5;241m2\u001b[39m\n\u001b[0;32m      4\u001b[0m     \u001b[38;5;28mprint\u001b[39m(c)\n",
      "\u001b[1;31mUnboundLocalError\u001b[0m: cannot access local variable 'c' where it is not associated with a value"
     ]
    }
   ],
   "source": [
    "c = 1\n",
    "def add():\n",
    "    c=c+2\n",
    "    print(c)\n",
    "add() # Raise Error its global scope"
   ]
  }
 ],
 "metadata": {
  "kernelspec": {
   "display_name": "Python 3",
   "language": "python",
   "name": "python3"
  },
  "language_info": {
   "codemirror_mode": {
    "name": "ipython",
    "version": 3
   },
   "file_extension": ".py",
   "mimetype": "text/x-python",
   "name": "python",
   "nbconvert_exporter": "python",
   "pygments_lexer": "ipython3",
   "version": "3.12.0"
  }
 },
 "nbformat": 4,
 "nbformat_minor": 2
}
