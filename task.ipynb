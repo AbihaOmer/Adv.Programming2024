{
  "nbformat": 4,
  "nbformat_minor": 0,
  "metadata": {
    "colab": {
      "provenance": [],
      "authorship_tag": "ABX9TyN5oK3J3rLtXhtgn6hn+u1+",
      "include_colab_link": true
    },
    "kernelspec": {
      "name": "python3",
      "display_name": "Python 3"
    },
    "language_info": {
      "name": "python"
    }
  },
  "cells": [
    {
      "cell_type": "markdown",
      "metadata": {
        "id": "view-in-github",
        "colab_type": "text"
      },
      "source": [
        "<a href=\"https://colab.research.google.com/github/AbihaOmer/Adv.Programming2024/blob/main/task.ipynb\" target=\"_parent\"><img src=\"https://colab.research.google.com/assets/colab-badge.svg\" alt=\"Open In Colab\"/></a>"
      ]
    },
    {
      "cell_type": "code",
      "execution_count": 22,
      "metadata": {
        "id": "o9cJg3_ULJF9"
      },
      "outputs": [],
      "source": [
        "import tensorflow as tf\n",
        "import numpy as np\n",
        "import matplotlib.pyplot as plt"
      ]
    },
    {
      "cell_type": "code",
      "source": [
        "handwritten_mnist = tf.keras.datasets.mnist"
      ],
      "metadata": {
        "id": "-2GZ9dOdQmQ5"
      },
      "execution_count": 23,
      "outputs": []
    },
    {
      "cell_type": "code",
      "source": [
        "handwritten_mnist"
      ],
      "metadata": {
        "colab": {
          "base_uri": "https://localhost:8080/"
        },
        "id": "DDFFRUUoRUzx",
        "outputId": "63b28d46-a081-4a18-c185-5871485b0ce0"
      },
      "execution_count": 24,
      "outputs": [
        {
          "output_type": "execute_result",
          "data": {
            "text/plain": [
              "<module 'keras.api._v2.keras.datasets.mnist' from '/usr/local/lib/python3.10/dist-packages/keras/api/_v2/keras/datasets/mnist/__init__.py'>"
            ]
          },
          "metadata": {},
          "execution_count": 24
        }
      ]
    },
    {
      "cell_type": "code",
      "source": [
        "# Load the training and test split of the Fashion MNIST dataset\n",
        "(training_images, training_labels), (test_images, test_labels) = handwritten_mnist.load_data()"
      ],
      "metadata": {
        "id": "hSOLfZUWRpah"
      },
      "execution_count": 25,
      "outputs": []
    },
    {
      "cell_type": "code",
      "source": [
        "\n",
        "\n",
        "# You can put between 0 to 59999 here\n",
        "index = 333\n",
        "\n",
        "# Set number of characters per row when printing\n",
        "np.set_printoptions(linewidth=320)\n",
        "\n",
        "# Print the label and image\n",
        "print(f'LABEL: {training_labels[index]}')\n",
        "print(f'\\nIMAGE PIXEL ARRAY:\\n {training_images[index]}')\n",
        "\n",
        "# Visualize the image\n",
        "plt.imshow(training_images[index])"
      ],
      "metadata": {
        "colab": {
          "base_uri": "https://localhost:8080/",
          "height": 986
        },
        "id": "Q5MgEevKRswJ",
        "outputId": "9d37dd49-f391-43da-a4ee-c154d3ed95f3"
      },
      "execution_count": 27,
      "outputs": [
        {
          "output_type": "stream",
          "name": "stdout",
          "text": [
            "LABEL: 8\n",
            "\n",
            "IMAGE PIXEL ARRAY:\n",
            " [[  0   0   0   0   0   0   0   0   0   0   0   0   0   0   0   0   0   0   0   0   0   0   0   0   0   0   0   0]\n",
            " [  0   0   0   0   0   0   0   0   0   0   0   0   0   0   0   0   0   0   0   0   0   0   0   0   0   0   0   0]\n",
            " [  0   0   0   0   0   0   0   0   0   0   0   0   0   0   0   0   0   0   0   0   0   0   0   0   0   0   0   0]\n",
            " [  0   0   0   0   0   0   0   0   0   0   0   0   0   0   0   0   0   0   0   0   0   0   0   0   0   0   0   0]\n",
            " [  0   0   0   0   0   0   0   0   0   0   0   0   0   0   0   0   0   0   0   0   0   0   0   0   0   0   0   0]\n",
            " [  0   0   0   0   0   0   0   0   0   0   0  87 138 170 253 201 244 212 222 138  86  22   0   0   0   0   0   0]\n",
            " [  0   0   0   0   0   0   0   0   0   0  95 253 252 252 252 252 253 252 252 252 252 245  80   0   0   0   0   0]\n",
            " [  0   0   0   0   0   0   0   0   0  68 246 205  69  69  69  69  69  69  69  69 205 253 240  50   0   0   0   0]\n",
            " [  0   0   0   0   0   0   0   0   0 187 252 218  34   0   0   0   0   0   0   0 116 253 252  69   0   0   0   0]\n",
            " [  0   0   0   0   0   0   0   0 116 248 252 253  92   0   0   0   0   0   0  95 230 253 157   6   0   0   0   0]\n",
            " [  0   0   0   0   0   0   0   0 116 249 253 189  42   0   0   0   0  36 170 253 243 158   0   0   0   0   0   0]\n",
            " [  0   0   0   0   0   0   0   0   0 133 252 245 140  34   0   0  57 219 252 235  60   0   0   0   0   0   0   0]\n",
            " [  0   0   0   0   0   0   0   0   0  25 205 253 252 234 184 184 253 240 100  44   0   0   0   0   0   0   0   0]\n",
            " [  0   0   0   0   0   0   0   0   0   0  21 161 219 252 252 252 234  37   0   0   0   0   0   0   0   0   0   0]\n",
            " [  0   0   0   0   0   0   0   0   0   0   0  11 203 252 252 252 251 135   0   0   0   0   0   0   0   0   0   0]\n",
            " [  0   0   0   0   0   0   0   0   0   9  76 255 253 205 168 220 255 253 137   5   0   0   0   0   0   0   0   0]\n",
            " [  0   0   0   0   0   0   0   0   0 114 252 249 132  25   0   0 180 252 252  45   0   0   0   0   0   0   0   0]\n",
            " [  0   0   0   0   0   0   0   0  51 220 252 199   0   0   0   0  38 186 252 154   7   0   0   0   0   0   0   0]\n",
            " [  0   0   0   0   0   0   0   0 184 252 252  21   0   0   0   0   0  67 252 252  22   0   0   0   0   0   0   0]\n",
            " [  0   0   0   0   0   0   0   0 184 252 200   0   0   0   0   0   0  47 252 252  22   0   0   0   0   0   0   0]\n",
            " [  0   0   0   0   0   0   0   0 185 253 201   0   0   0   0   0   3 118 253 245  21   0   0   0   0   0   0   0]\n",
            " [  0   0   0   0   0   0   0   0 163 252 252   0   0   0   0   0  97 252 252  87   0   0   0   0   0   0   0   0]\n",
            " [  0   0   0   0   0   0   0   0  51 240 252 123  70  70 112 184 222 252 170  13   0   0   0   0   0   0   0   0]\n",
            " [  0   0   0   0   0   0   0   0   0 165 252 253 252 252 252 252 245 139  13   0   0   0   0   0   0   0   0   0]\n",
            " [  0   0   0   0   0   0   0   0   0   9  75 253 252 221 137 137  21   0   0   0   0   0   0   0   0   0   0   0]\n",
            " [  0   0   0   0   0   0   0   0   0   0   0   0   0   0   0   0   0   0   0   0   0   0   0   0   0   0   0   0]\n",
            " [  0   0   0   0   0   0   0   0   0   0   0   0   0   0   0   0   0   0   0   0   0   0   0   0   0   0   0   0]\n",
            " [  0   0   0   0   0   0   0   0   0   0   0   0   0   0   0   0   0   0   0   0   0   0   0   0   0   0   0   0]]\n"
          ]
        },
        {
          "output_type": "execute_result",
          "data": {
            "text/plain": [
              "<matplotlib.image.AxesImage at 0x78b2c791f910>"
            ]
          },
          "metadata": {},
          "execution_count": 27
        },
        {
          "output_type": "display_data",
          "data": {
            "text/plain": [
              "<Figure size 640x480 with 1 Axes>"
            ],
            "image/png": "[encoded data removed]"
          },
          "metadata": {}
        }
      ]
    },
    {
      "cell_type": "code",
      "source": [
        "# You can put between 0 to 59999 here\n",
        "index = 99\n",
        "\n",
        "# Set number of characters per row when printing\n",
        "np.set_printoptions(linewidth=320)\n",
        "\n",
        "# Print the label and image\n",
        "print(f'LABEL: {test_labels[index]}')\n",
        "print(f'\\nIMAGE PIXEL ARRAY:\\n {test_images[index]}')\n",
        "\n",
        "# Visualize the image\n",
        "plt.imshow(test_images[index])"
      ],
      "metadata": {
        "colab": {
          "base_uri": "https://localhost:8080/",
          "height": 986
        },
        "id": "Y_Hef4ekR9dR",
        "outputId": "44007ac9-71f9-4dd8-a035-d0ec1773207b"
      },
      "execution_count": 28,
      "outputs": [
        {
          "output_type": "stream",
          "name": "stdout",
          "text": [
            "LABEL: 9\n",
            "\n",
            "IMAGE PIXEL ARRAY:\n",
            " [[  0   0   0   0   0   0   0   0   0   0   0   0   0   0   0   0   0   0   0   0   0   0   0   0   0   0   0   0]\n",
            " [  0   0   0   0   0   0   0   0   0   0   0   0   0   0   0   0   0   0   0   0   0   0   0   0   0   0   0   0]\n",
            " [  0   0   0   0   0   0   0   0   0   0   0   0   0   0   0   0   0   0   0   0   0   0   0   0   0   0   0   0]\n",
            " [  0   0   0   0   0   0   0   0   0   0   0   0   0   0   0   0   0   0   0   0   0   0   0   0   0   0   0   0]\n",
            " [  0   0   0   0   0   0   0   0   0   0   0   0   0   0   0   0   0   0   0   0   0   0   0   0   0   0   0   0]\n",
            " [  0   0   0   0   0   0   0   0   0   0   0   0   0   0   0   0   0   0   0   0   0   0   0   0   0   0   0   0]\n",
            " [  0   0   0   0   0   0   0   0   0   2  38 122 246 255 255 245 121   8   0   0   0   0   0   0   0   0   0   0]\n",
            " [  0   0   0   0   0   0   0   0  57 176 253 253 253 253 253 253 253 155   3   0   0   0   0   0   0   0   0   0]\n",
            " [  0   0   0   0   0   0   0   1 191 253 253 253 253 250 248 253 253 253 105   0   0   0   0   0   0   0   0   0]\n",
            " [  0   0   0   0   0   0   1 126 253 253 245 210 111  37   0 155 253 253 187  14   0   0   0   0   0   0   0   0]\n",
            " [  0   0   0   0   0   0   6 253 253 250 139   0   0   0   0  15 226 253 253 116   0   0   0   0   0   0   0   0]\n",
            " [  0   0   0   0   0   0   6 253 253 141   0   0   0   0   0   0  76 253 253 219  25   0   0   0   0   0   0   0]\n",
            " [  0   0   0   0   0   0  73 253 238  22   0   0   0   0   0  14 221 253 253 253 150   0   0   0   0   0   0   0]\n",
            " [  0   0   0   0   0   0 114 253 235  21   0   0   0   0  32 193 253 253 253 253 230   4   0   0   0   0   0   0]\n",
            " [  0   0   0   0   0   0  61 253 253 126   0   0   2  40 171 253 253 253 253 253 159   1   0   0   0   0   0   0]\n",
            " [  0   0   0   0   0   0   6 253 253 211  96  55 159 253 253 253 253 253 253 240  73   0   0   0   0   0   0   0]\n",
            " [  0   0   0   0   0   0   2 133 253 253 253 253 253 253 253 253 214 253 253 188   0   0   0   0   0   0   0   0]\n",
            " [  0   0   0   0   0   0   0   3  97 174 245 253 252 232 192  22  65 253 253  87   0   0   0   0   0   0   0   0]\n",
            " [  0   0   0   0   0   0   0   0   0   0  54  86  81   0   0   0  21 222 235  28   0   0   0   0   0   0   0   0]\n",
            " [  0   0   0   0   0   0   0   0   0   0   0   0   0   0   0   0  23 224 226   0   0   0   0   0   0   0   0   0]\n",
            " [  0   0   0   0   0   0   0   0   0   0   0   0   0   0   0   0  72 253 123   0   0   0   0   0   0   0   0   0]\n",
            " [  0   0   0   0   0   0   0   0   0   0   0   0   0   0   0   0 168 253 192   0   0   0   0   0   0   0   0   0]\n",
            " [  0   0   0   0   0   0   0   0   0   0   0   0   0   0   0   0 168 253 237  33   0   0   0   0   0   0   0   0]\n",
            " [  0   0   0   0   0   0   0   0   0   0   0   0   0   0   0   0 168 253 253  81   0   0   0   0   0   0   0   0]\n",
            " [  0   0   0   0   0   0   0   0   0   0   0   0   0   0   0   0 168 253 253  81   0   0   0   0   0   0   0   0]\n",
            " [  0   0   0   0   0   0   0   0   0   0   0   0   0   0   0   0  97 233 242  46   0   0   0   0   0   0   0   0]\n",
            " [  0   0   0   0   0   0   0   0   0   0   0   0   0   0   0   0   0   0   0   0   0   0   0   0   0   0   0   0]\n",
            " [  0   0   0   0   0   0   0   0   0   0   0   0   0   0   0   0   0   0   0   0   0   0   0   0   0   0   0   0]]\n"
          ]
        },
        {
          "output_type": "execute_result",
          "data": {
            "text/plain": [
              "<matplotlib.image.AxesImage at 0x78b2c57e82b0>"
            ]
          },
          "metadata": {},
          "execution_count": 28
        },
        {
          "output_type": "display_data",
          "data": {
            "text/plain": [
              "<Figure size 640x480 with 1 Axes>"
            ],
            "image/png": "[encoded data removed]"
          },
          "metadata": {}
        }
      ]
    },
    {
      "cell_type": "code",
      "source": [
        "#normalize will transform into grey images\n",
        "#to normalize divide by 255\n",
        "# Normalize the pixel values of the train and test images\n",
        "training_images  = training_images / 255.0\n",
        "test_images = test_images / 255.0"
      ],
      "metadata": {
        "id": "ALIKJxEhSIfh"
      },
      "execution_count": 29,
      "outputs": []
    },
    {
      "cell_type": "code",
      "source": [
        "# Build the classification model\n",
        "model = tf.keras.models.Sequential([tf.keras.layers.Flatten(),tf.keras.layers.Dense(128, activation=tf.nn.relu),tf.keras.layers.Dense(10, activation=tf.nn.softmax)])"
      ],
      "metadata": {
        "id": "CJLCVX2FSQMg"
      },
      "execution_count": 30,
      "outputs": []
    },
    {
      "cell_type": "code",
      "source": [
        "#for better understanding\n",
        "# Declare sample inputs and convert to a tensor\n",
        "inputs = np.array([[1.0, 3.0, 4.0, 2.0]])\n",
        "inputs = tf.convert_to_tensor(inputs)\n",
        "print(f'input to softmax function: {inputs.numpy()}')\n",
        "\n",
        "# Feed the inputs to a softmax activation function\n",
        "outputs = tf.keras.activations.softmax(inputs)\n",
        "print(f'output of softmax function: {outputs.numpy()}')\n",
        "\n",
        "# Get the sum of all values after the softmax\n",
        "sum = tf.reduce_sum(outputs)\n",
        "print(f'sum of outputs: {sum}')\n",
        "\n",
        "# Get the index with highest value\n",
        "prediction = np.argmax(outputs)\n",
        "print(f'class with highest probability: {prediction}')"
      ],
      "metadata": {
        "colab": {
          "base_uri": "https://localhost:8080/"
        },
        "id": "SPbABi3JSki4",
        "outputId": "69bd91cc-5bf4-4a09-dd6c-0e7d1eafcbc5"
      },
      "execution_count": 31,
      "outputs": [
        {
          "output_type": "stream",
          "name": "stdout",
          "text": [
            "input to softmax function: [[1. 3. 4. 2.]]\n",
            "output of softmax function: [[0.0320586  0.23688282 0.64391426 0.08714432]]\n",
            "sum of outputs: 1.0\n",
            "class with highest probability: 2\n"
          ]
        }
      ]
    },
    {
      "cell_type": "code",
      "source": [
        "model.compile(optimizer = tf.optimizers.Adam(),\n",
        "              loss = 'sparse_categorical_crossentropy',\n",
        "              metrics=['accuracy'])\n",
        "\n",
        "model.fit(training_images, training_labels, epochs=20,verbose=1)"
      ],
      "metadata": {
        "colab": {
          "base_uri": "https://localhost:8080/"
        },
        "id": "EsJuXRGqSr0g",
        "outputId": "b4dc751e-e68a-4e72-c17d-a60c0996bda4"
      },
      "execution_count": 32,
      "outputs": [
        {
          "output_type": "stream",
          "name": "stdout",
          "text": [
            "Epoch 1/20\n",
            "1875/1875 [==============================] - 20s 10ms/step - loss: 0.2576 - accuracy: 0.9269\n",
            "Epoch 2/20\n",
            "1875/1875 [==============================] - 7s 4ms/step - loss: 0.1123 - accuracy: 0.9668\n",
            "Epoch 3/20\n",
            "1875/1875 [==============================] - 8s 4ms/step - loss: 0.0786 - accuracy: 0.9765\n",
            "Epoch 4/20\n",
            "1875/1875 [==============================] - 8s 4ms/step - loss: 0.0574 - accuracy: 0.9828\n",
            "Epoch 5/20\n",
            "1875/1875 [==============================] - 7s 4ms/step - loss: 0.0441 - accuracy: 0.9862\n",
            "Epoch 6/20\n",
            "1875/1875 [==============================] - 13s 7ms/step - loss: 0.0351 - accuracy: 0.9892\n",
            "Epoch 7/20\n",
            "1875/1875 [==============================] - 8s 4ms/step - loss: 0.0279 - accuracy: 0.9914\n",
            "Epoch 8/20\n",
            "1875/1875 [==============================] - 7s 4ms/step - loss: 0.0233 - accuracy: 0.9930\n",
            "Epoch 9/20\n",
            "1875/1875 [==============================] - 8s 4ms/step - loss: 0.0180 - accuracy: 0.9945\n",
            "Epoch 10/20\n",
            "1875/1875 [==============================] - 7s 4ms/step - loss: 0.0155 - accuracy: 0.9952\n",
            "Epoch 11/20\n",
            "1875/1875 [==============================] - 10s 5ms/step - loss: 0.0122 - accuracy: 0.9962\n",
            "Epoch 12/20\n",
            "1875/1875 [==============================] - 7s 4ms/step - loss: 0.0125 - accuracy: 0.9961\n",
            "Epoch 13/20\n",
            "1875/1875 [==============================] - 9s 5ms/step - loss: 0.0096 - accuracy: 0.9969\n",
            "Epoch 14/20\n",
            "1875/1875 [==============================] - 8s 4ms/step - loss: 0.0095 - accuracy: 0.9968\n",
            "Epoch 15/20\n",
            "1875/1875 [==============================] - 7s 4ms/step - loss: 0.0066 - accuracy: 0.9982\n",
            "Epoch 16/20\n",
            "1875/1875 [==============================] - 8s 5ms/step - loss: 0.0083 - accuracy: 0.9973\n",
            "Epoch 17/20\n",
            "1875/1875 [==============================] - 7s 4ms/step - loss: 0.0069 - accuracy: 0.9979\n",
            "Epoch 18/20\n",
            "1875/1875 [==============================] - 8s 4ms/step - loss: 0.0054 - accuracy: 0.9984\n",
            "Epoch 19/20\n",
            "1875/1875 [==============================] - 6s 3ms/step - loss: 0.0057 - accuracy: 0.9980\n",
            "Epoch 20/20\n",
            "1875/1875 [==============================] - 8s 4ms/step - loss: 0.0056 - accuracy: 0.9983\n"
          ]
        },
        {
          "output_type": "execute_result",
          "data": {
            "text/plain": [
              "<keras.src.callbacks.History at 0x78b2c258ac80>"
            ]
          },
          "metadata": {},
          "execution_count": 32
        }
      ]
    },
    {
      "cell_type": "code",
      "source": [
        "model.compile(optimizer = tf.optimizers.Adam(),\n",
        "              loss = 'sparse_categorical_crossentropy',\n",
        "              metrics=['accuracy'])\n",
        "\n",
        "model.fit(training_images, training_labels, epochs=10,verbose=0)"
      ],
      "metadata": {
        "colab": {
          "base_uri": "https://localhost:8080/"
        },
        "id": "7tu-thkCSvFI",
        "outputId": "b243ec42-5a45-466e-9a91-eb637128a41a"
      },
      "execution_count": 33,
      "outputs": [
        {
          "output_type": "execute_result",
          "data": {
            "text/plain": [
              "<keras.src.callbacks.History at 0x78b2c791ec80>"
            ]
          },
          "metadata": {},
          "execution_count": 33
        }
      ]
    },
    {
      "cell_type": "code",
      "source": [
        "# Evaluate the model on unseen data\n",
        "model.evaluate(test_images, test_labels)"
      ],
      "metadata": {
        "colab": {
          "base_uri": "https://localhost:8080/"
        },
        "id": "HSNH_SFXUHhC",
        "outputId": "22191a28-3f2f-423b-dbc3-7a5f1cbce397"
      },
      "execution_count": 34,
      "outputs": [
        {
          "output_type": "stream",
          "name": "stdout",
          "text": [
            "313/313 [==============================] - 3s 6ms/step - loss: 0.1358 - accuracy: 0.9767\n"
          ]
        },
        {
          "output_type": "execute_result",
          "data": {
            "text/plain": [
              "[0.13584858179092407, 0.9767000079154968]"
            ]
          },
          "metadata": {},
          "execution_count": 34
        }
      ]
    },
    {
      "cell_type": "code",
      "source": [
        "# Evaluate the model on unseen data\n",
        "model.evaluate(test_images, test_labels)"
      ],
      "metadata": {
        "colab": {
          "base_uri": "https://localhost:8080/"
        },
        "id": "ge4fAKOPUISH",
        "outputId": "eb2869a6-ea64-4b86-c761-14cfb0b56e5f"
      },
      "execution_count": 35,
      "outputs": [
        {
          "output_type": "stream",
          "name": "stdout",
          "text": [
            "313/313 [==============================] - 1s 4ms/step - loss: 0.1358 - accuracy: 0.9767\n"
          ]
        },
        {
          "output_type": "execute_result",
          "data": {
            "text/plain": [
              "[0.13584858179092407, 0.9767000079154968]"
            ]
          },
          "metadata": {},
          "execution_count": 35
        }
      ]
    },
    {
      "cell_type": "code",
      "source": [],
      "metadata": {
        "id": "pU9Og0z2UVfn"
      },
      "execution_count": null,
      "outputs": []
    }
  ]
}