{
  "nbformat": 4,
  "nbformat_minor": 0,
  "metadata": {
    "colab": {
      "provenance": [],
      "authorship_tag": "ABX9TyNWRVjI8SAukM8t0pB9yQNd",
      "include_colab_link": true
    },
    "kernelspec": {
      "name": "python3",
      "display_name": "Python 3"
    },
    "language_info": {
      "name": "python"
    }
  },
  "cells": [
    {
      "cell_type": "markdown",
      "metadata": {
        "id": "view-in-github",
        "colab_type": "text"
      },
      "source": [
        "<a href=\"https://colab.research.google.com/github/AbihaOmer/Adv.Programming2024/blob/main/fashion_MNIST.ipynb\" target=\"_parent\"><img src=\"https://colab.research.google.com/assets/colab-badge.svg\" alt=\"Open In Colab\"/></a>"
      ]
    },
    {
      "cell_type": "code",
      "execution_count": 1,
      "metadata": {
        "colab": {
          "base_uri": "https://localhost:8080/"
        },
        "id": "D3VM7deqsd07",
        "outputId": "ed88470e-8f5c-4db2-807c-55c9f4f45cc3"
      },
      "outputs": [
        {
          "output_type": "stream",
          "name": "stdout",
          "text": [
            "2.15.0\n"
          ]
        }
      ],
      "source": [
        "import tensorflow as tf\n",
        "print(tf.__version__)"
      ]
    },
    {
      "cell_type": "code",
      "source": [
        "# Load the Fashion MNIST dataset\n",
        "fmnist = tf.keras.datasets.fashion_mnist"
      ],
      "metadata": {
        "id": "NXhfNfrJufwt"
      },
      "execution_count": 2,
      "outputs": []
    },
    {
      "cell_type": "code",
      "source": [
        "fmnist"
      ],
      "metadata": {
        "colab": {
          "base_uri": "https://localhost:8080/"
        },
        "id": "vuUHMHcMuwqc",
        "outputId": "806ce012-6aa1-499f-c996-008cd5ac6e6d"
      },
      "execution_count": 3,
      "outputs": [
        {
          "output_type": "execute_result",
          "data": {
            "text/plain": [
              "<module 'keras.api._v2.keras.datasets.fashion_mnist' from '/usr/local/lib/python3.10/dist-packages/keras/api/_v2/keras/datasets/fashion_mnist/__init__.py'>"
            ]
          },
          "metadata": {},
          "execution_count": 3
        }
      ]
    },
    {
      "cell_type": "code",
      "source": [
        "# more preferred work is breaking data into test and train data\n",
        "# Load the training and test split of the Fashion MNIST dataset\n",
        "(training_images, training_labels), (test_images, test_labels) = fmnist.load_data()"
      ],
      "metadata": {
        "id": "TVRvyBWwu2Yb"
      },
      "execution_count": 4,
      "outputs": []
    },
    {
      "cell_type": "code",
      "source": [
        "import numpy as np\n",
        "import pandas as pd\n",
        "import matplotlib.pyplot as plt"
      ],
      "metadata": {
        "id": "Bk_eQyhIvLvK"
      },
      "execution_count": 5,
      "outputs": []
    },
    {
      "cell_type": "code",
      "source": [
        "# You can put between 0 to 59999 here\n",
        "index = 0\n",
        "\n",
        "# Set number of characters per row when printing\n",
        "np.set_printoptions(linewidth=320)\n",
        "\n",
        "# Print the label and image\n",
        "print(f'LABEL: {training_labels[index]}')\n",
        "print(f'\\nIMAGE PIXEL ARRAY:\\n {training_images[index]}')\n",
        "\n",
        "# Visualize the image\n",
        "plt.imshow(training_images[index])"
      ],
      "metadata": {
        "colab": {
          "base_uri": "https://localhost:8080/",
          "height": 986
        },
        "id": "Gkn5tx-Lv0RT",
        "outputId": "5c7723b8-941a-4fcc-8e0d-22e2ca4f7961"
      },
      "execution_count": 6,
      "outputs": [
        {
          "output_type": "stream",
          "name": "stdout",
          "text": [
            "LABEL: 9\n",
            "\n",
            "IMAGE PIXEL ARRAY:\n",
            " [[  0   0   0   0   0   0   0   0   0   0   0   0   0   0   0   0   0   0   0   0   0   0   0   0   0   0   0   0]\n",
            " [  0   0   0   0   0   0   0   0   0   0   0   0   0   0   0   0   0   0   0   0   0   0   0   0   0   0   0   0]\n",
            " [  0   0   0   0   0   0   0   0   0   0   0   0   0   0   0   0   0   0   0   0   0   0   0   0   0   0   0   0]\n",
            " [  0   0   0   0   0   0   0   0   0   0   0   0   1   0   0  13  73   0   0   1   4   0   0   0   0   1   1   0]\n",
            " [  0   0   0   0   0   0   0   0   0   0   0   0   3   0  36 136 127  62  54   0   0   0   1   3   4   0   0   3]\n",
            " [  0   0   0   0   0   0   0   0   0   0   0   0   6   0 102 204 176 134 144 123  23   0   0   0   0  12  10   0]\n",
            " [  0   0   0   0   0   0   0   0   0   0   0   0   0   0 155 236 207 178 107 156 161 109  64  23  77 130  72  15]\n",
            " [  0   0   0   0   0   0   0   0   0   0   0   1   0  69 207 223 218 216 216 163 127 121 122 146 141  88 172  66]\n",
            " [  0   0   0   0   0   0   0   0   0   1   1   1   0 200 232 232 233 229 223 223 215 213 164 127 123 196 229   0]\n",
            " [  0   0   0   0   0   0   0   0   0   0   0   0   0 183 225 216 223 228 235 227 224 222 224 221 223 245 173   0]\n",
            " [  0   0   0   0   0   0   0   0   0   0   0   0   0 193 228 218 213 198 180 212 210 211 213 223 220 243 202   0]\n",
            " [  0   0   0   0   0   0   0   0   0   1   3   0  12 219 220 212 218 192 169 227 208 218 224 212 226 197 209  52]\n",
            " [  0   0   0   0   0   0   0   0   0   0   6   0  99 244 222 220 218 203 198 221 215 213 222 220 245 119 167  56]\n",
            " [  0   0   0   0   0   0   0   0   0   4   0   0  55 236 228 230 228 240 232 213 218 223 234 217 217 209  92   0]\n",
            " [  0   0   1   4   6   7   2   0   0   0   0   0 237 226 217 223 222 219 222 221 216 223 229 215 218 255  77   0]\n",
            " [  0   3   0   0   0   0   0   0   0  62 145 204 228 207 213 221 218 208 211 218 224 223 219 215 224 244 159   0]\n",
            " [  0   0   0   0  18  44  82 107 189 228 220 222 217 226 200 205 211 230 224 234 176 188 250 248 233 238 215   0]\n",
            " [  0  57 187 208 224 221 224 208 204 214 208 209 200 159 245 193 206 223 255 255 221 234 221 211 220 232 246   0]\n",
            " [  3 202 228 224 221 211 211 214 205 205 205 220 240  80 150 255 229 221 188 154 191 210 204 209 222 228 225   0]\n",
            " [ 98 233 198 210 222 229 229 234 249 220 194 215 217 241  65  73 106 117 168 219 221 215 217 223 223 224 229  29]\n",
            " [ 75 204 212 204 193 205 211 225 216 185 197 206 198 213 240 195 227 245 239 223 218 212 209 222 220 221 230  67]\n",
            " [ 48 203 183 194 213 197 185 190 194 192 202 214 219 221 220 236 225 216 199 206 186 181 177 172 181 205 206 115]\n",
            " [  0 122 219 193 179 171 183 196 204 210 213 207 211 210 200 196 194 191 195 191 198 192 176 156 167 177 210  92]\n",
            " [  0   0  74 189 212 191 175 172 175 181 185 188 189 188 193 198 204 209 210 210 211 188 188 194 192 216 170   0]\n",
            " [  2   0   0   0  66 200 222 237 239 242 246 243 244 221 220 193 191 179 182 182 181 176 166 168  99  58   0   0]\n",
            " [  0   0   0   0   0   0   0  40  61  44  72  41  35   0   0   0   0   0   0   0   0   0   0   0   0   0   0   0]\n",
            " [  0   0   0   0   0   0   0   0   0   0   0   0   0   0   0   0   0   0   0   0   0   0   0   0   0   0   0   0]\n",
            " [  0   0   0   0   0   0   0   0   0   0   0   0   0   0   0   0   0   0   0   0   0   0   0   0   0   0   0   0]]\n"
          ]
        },
        {
          "output_type": "execute_result",
          "data": {
            "text/plain": [
              "<matplotlib.image.AxesImage at 0x7f3927bb3820>"
            ]
          },
          "metadata": {},
          "execution_count": 6
        },
        {
          "output_type": "display_data",
          "data": {
            "text/plain": [
              "<Figure size 640x480 with 1 Axes>"
            ],
            "image/png": "[encoded data removed]"
          },
          "metadata": {}
        }
      ]
    },
    {
      "cell_type": "code",
      "source": [
        "# You can put between 0 to 59999 here\n",
        "index = 3\n",
        "\n",
        "# Set number of characters per row when printing\n",
        "np.set_printoptions(linewidth=320)\n",
        "\n",
        "# Print the label and image\n",
        "print(f'LABEL: {training_labels[index]}')\n",
        "print(f'\\nIMAGE PIXEL ARRAY:\\n {training_images[index]}')\n",
        "\n",
        "# Visualize the image\n",
        "plt.imshow(training_images[index])"
      ],
      "metadata": {
        "colab": {
          "base_uri": "https://localhost:8080/",
          "height": 986
        },
        "id": "eQRpSxdkv_7a",
        "outputId": "767b5338-6e13-4119-adc8-70ff3e7c9b19"
      },
      "execution_count": 7,
      "outputs": [
        {
          "output_type": "stream",
          "name": "stdout",
          "text": [
            "LABEL: 3\n",
            "\n",
            "IMAGE PIXEL ARRAY:\n",
            " [[  0   0   0   0   0   0   0   0  33  96 175 156  64  14  54 137 204 194 102   0   0   0   0   0   0   0   0   0]\n",
            " [  0   0   0   0   0   0  73 186 177 183 175 188 232 255 223 219 194 179 186 213 146   0   0   0   0   0   0   0]\n",
            " [  0   0   0   0   0  35 163 140 150 152 150 146 175 175 173 171 156 152 148 129 156 140   0   0   0   0   0   0]\n",
            " [  0   0   0   0   0 150 142 140 152 160 156 146 142 127 135 133 140 140 137 133 125 169  75   0   0   0   0   0]\n",
            " [  0   0   0   0   0  54 167 146 129 142 137 137 131 148 148 133 131 131 131 125 140 140   0   0   0   0   0   0]\n",
            " [  0   0   0   0   0   0 110 188 133 146 152 133 125 127 119 129 133 119 140 131 150  14   0   0   0   0   0   0]\n",
            " [  0   0   0   0   0   0   0 221 158 137 135 123 110 110 114 108 112 117 127 142  77   0   0   0   0   0   0   0]\n",
            " [  0   0   0   0   0   4   0  25 158 137 125 119 119 110 117 117 110 119 127 144   0   0   0   0   0   0   0   0]\n",
            " [  0   0   0   0   0   0   0   0 123 156 129 112 110 102 112 100 121 117 129 114   0   0   0   0   0   0   0   0]\n",
            " [  0   0   0   0   0   0   0   0 125 169 127 119 106 108 104  94 121 114 129  91   0   0   0   0   0   0   0   0]\n",
            " [  0   0   0   0   0   0   2   0  98 171 129 112 104 114 106 102 112 104 133  64   0   4   0   0   0   0   0   0]\n",
            " [  0   0   0   0   0   0   2   0  66 173 135 129  98 100 119 102 108  98 135  60   0   4   0   0   0   0   0   0]\n",
            " [  0   0   0   0   0   0   2   0  56 171 135 127 100 108 117  85 106 110 135  66   0   4   0   0   0   0   0   0]\n",
            " [  0   0   0   0   0   0   0   0  52 150 129 110 100  91 102  94  83 104 123  66   0   4   0   0   0   0   0   0]\n",
            " [  0   0   0   0   0   0   2   0  66 167 140 148 148 127 137 152 146 146 148  96   0   0   0   0   0   0   0   0]\n",
            " [  0   0   0   0   0   0   0   0  45 123  94 104  96 119 121 106  98 112  87 114   0   0   0   0   0   0   0   0]\n",
            " [  0   0   0   0   0   0   0   0 106  89  58  50  37  50  66  56  50  75  75 137  22   0   2   0   0   0   0   0]\n",
            " [  0   0   0   0   0   2   0  29 148 114 106 125  89 100 133 117 131 131 131 125 112   0   0   0   0   0   0   0]\n",
            " [  0   0   0   0   0   0   0 100 106 114  91 137  62 102 131  89 135 112 131 108 135  37   0   0   0   0   0   0]\n",
            " [  0   0   0   0   0   0   0 146 100 108  98 144  62 106 131  87 133 104 160 117 121  68   0   0   0   0   0   0]\n",
            " [  0   0   0   0   0   0  33 121 108  96 100 140  71 106 127  85 140 104 150 140 114  89   0   0   0   0   0   0]\n",
            " [  0   0   0   0   0   0  62 119 112 102 110 137  75 106 144  81 144 108 117 154 117 104  18   0   0   0   0   0]\n",
            " [  0   0   0   0   0   0  66 121 102 112 117 131  73 104 156  77 137 135  83 179 129 121  35   0   0   0   0   0]\n",
            " [  0   0   0   0   0   0  85 127  81 125 133 119  79 100 169  83 129 175  60 163 135 146  39   0   0   0   0   0]\n",
            " [  0   0   0   0   0   0 106 129  62 140 144 108  85  83 158  85 129 175  48 146 133 135  64   0   0   0   0   0]\n",
            " [  0   0   0   0   0   0 117 119  79 140 152 102  89 110 137  96 150 196  83 144 135 133  77   0   0   0   0   0]\n",
            " [  0   0   0   0   0   0 154 121  87 140 154 112  94  52 142 100  83 152  85 160 133 100  12   0   0   0   0   0]\n",
            " [  0   0   0   0   0   0   4   0   2   0  35   4  33   0   0   0   0   0   0   0   0   0   0   0   0   0   0   0]]\n"
          ]
        },
        {
          "output_type": "execute_result",
          "data": {
            "text/plain": [
              "<matplotlib.image.AxesImage at 0x7f39246c61d0>"
            ]
          },
          "metadata": {},
          "execution_count": 7
        },
        {
          "output_type": "display_data",
          "data": {
            "text/plain": [
              "<Figure size 640x480 with 1 Axes>"
            ],
            "image/png": "[encoded data removed]"
          },
          "metadata": {}
        }
      ]
    },
    {
      "cell_type": "code",
      "source": [
        "# You can put between 0 to 59999 here\n",
        "index = 44444\n",
        "\n",
        "# Set number of characters per row when printing\n",
        "np.set_printoptions(linewidth=320)\n",
        "\n",
        "# Print the label and image\n",
        "print(f'LABEL: {training_labels[index]}')\n",
        "print(f'\\nIMAGE PIXEL ARRAY:\\n {training_images[index]}')\n",
        "\n",
        "# Visualize the image\n",
        "plt.imshow(training_images[index])"
      ],
      "metadata": {
        "colab": {
          "base_uri": "https://localhost:8080/",
          "height": 986
        },
        "id": "luoabuWxxXXC",
        "outputId": "e0268ec1-21cf-49d3-dcab-1db08bd35508"
      },
      "execution_count": 8,
      "outputs": [
        {
          "output_type": "stream",
          "name": "stdout",
          "text": [
            "LABEL: 5\n",
            "\n",
            "IMAGE PIXEL ARRAY:\n",
            " [[  0   0   0   0   0   0   0   0   0   0   0   0   0   0   0   0   0   0   0   0   0   0   0   0   0   0   0   0]\n",
            " [  0   0   0   0   0   0   0   0   0   0   0   0   0   0   0   0   0   0   0   0   0   0   0   0   0   0   0   0]\n",
            " [  0   0   0   0   0   0   0   0   0   1   0   0   0   0   1   3   4   3   0   0   0   0  31  94  88  48   0   3]\n",
            " [  0   0   0   0   0   0   0   0   0   1   0   0   1   1   0   0   0   0   0   0   0   0 105  80  92 171   0   0]\n",
            " [  0   0   0   0   0   0   0   0   0   0   0   0   0   0   0  48  80  94 116 119 124 125  99  86  75 122   7   0]\n",
            " [  0   0   0   0   0   0   0   0   0   0   0   0   3  67 127 146 141 114 122  83  39  70 127  80  72  99  51   0]\n",
            " [  0   0   0   0   0   0   0   0   0   1   0  36 114 121  78  12   0   0   0   0   0  12  99  75  70  86 170   0]\n",
            " [  0   0   0   0   0   0   0   0   0   4   0 103 105   0   0   0   4  44 125 144 207 168  78  77  70  55 100   0]\n",
            " [  0   0   0   0   0   0   0   0   0   6   0  64  51  48 171 166 176 163 141 135  64  88  85  77  70  58  77  37]\n",
            " [  0   0   0   0   0   0   0   0   0   0   3  88 133 170 166  67  15   0   0   0   0  59 102  73  80  66  78  58]\n",
            " [  0   0   0   0   0   0   0   0   0  25 157 118 182 100   0   0   0   0   0   3  20  94  86  69  69  66  66  77]\n",
            " [  0   0   0   0   0   0   0   1   0  37 135  48 121 108  44  88 130 118 135 149 160 103  81  81  69  67  62  75]\n",
            " [  0   0   1   1   0   0   0   4   0  18 102  25 146 143 140 125 127 105 130  73  86 113  96  85  94  86  99  85]\n",
            " [  0   0   0   0   0   0   0   0   0  62 114 168  78 119 151  77   0   0   0   0  15 122 102 111 105 100 122  66]\n",
            " [  0   0   0   0   0   0   3   0  39 118 130 192  42   0 166 187  22   0   0   0 105 118 121 135 121  92  97  34]\n",
            " [  0   0   0   0   0   0   3   0  45  94  39 140 204  11  39 168 129   0   0  61 127 138 133  56  48 121  94  14]\n",
            " [  0   0   0   0   0   0   1   0  17 158  53   9 190 214   0  86 177  70  50 140 184  69   0   0   0 108  94   0]\n",
            " [  1   0   0   0   1   0   0   0   0  36 203  20   4 182 204   0 113 102 141 201  40   0   0   0   0 113  81   0]\n",
            " [  1   0   0   0   1   0   0  25 108   0  28 231  23  12 255 121  62 116 163  25   0  12   1   0   0 118  72   0]\n",
            " [  0   0   0   0   3   0   0  83  96 163  22  45 231  33  47 125 107 214  39   0   4   0   1   0   0 122  58   0]\n",
            " [  0   0   1   0   3   0   9 108  40  51 250   1  86 201  67 130 129  91   0   7   1   6   1   0   0 122  45   0]\n",
            " [  1   1   0   0   3   0  81  99 114   0  96 201   0  78 114 195 135   0   1   0   0   1   0   0  22 121  42   0]\n",
            " [  0   0   0   0   1   0 102  53  39 170   0 144  99 103 118 149   0   0   1   0   0   0   3   0  44 118  11   0]\n",
            " [  1   0   4   0   4   0 157  99   0 132 149   1 143 144 199  58   0   6   0   0   1   0   4   0  50 121   1   0]\n",
            " [ 91  70  58  48  55  45 122 143  67 113 154 114  39 124 121   0   3   0   0   0   0   0   4   0  50 102   0   0]\n",
            " [111 127 125 127 124 119 129 125  85 122 143 119 146 171   0   0   3   1   0   0   0   0   6   0  96 146   0   0]\n",
            " [  0   0  40  62  80 105 149 119 168 146 154 140 102   4   0   0   1   0   0   0   0   0   4   0  77 136   0   0]\n",
            " [  0   0   0   0   0   0   0   0   0   0   0   0   0   0   0   0   0   0   0   0   0   0   0   0   0   0   0   0]]\n"
          ]
        },
        {
          "output_type": "execute_result",
          "data": {
            "text/plain": [
              "<matplotlib.image.AxesImage at 0x7f3922534730>"
            ]
          },
          "metadata": {},
          "execution_count": 8
        },
        {
          "output_type": "display_data",
          "data": {
            "text/plain": [
              "<Figure size 640x480 with 1 Axes>"
            ],
            "image/png": "[encoded data removed]"
          },
          "metadata": {}
        }
      ]
    },
    {
      "cell_type": "code",
      "source": [
        "# You can put between 0 to 59999 here\n",
        "index = 99\n",
        "\n",
        "# Set number of characters per row when printing\n",
        "np.set_printoptions(linewidth=320)\n",
        "\n",
        "# Print the label and image\n",
        "print(f'LABEL: {test_labels[index]}')\n",
        "print(f'\\nIMAGE PIXEL ARRAY:\\n {test_images[index]}')\n",
        "\n",
        "# Visualize the image\n",
        "plt.imshow(test_images[index])"
      ],
      "metadata": {
        "colab": {
          "base_uri": "https://localhost:8080/",
          "height": 986
        },
        "id": "BjXx9xbmyBWx",
        "outputId": "111e8996-8f6d-4685-f118-14a5aa27593b"
      },
      "execution_count": 9,
      "outputs": [
        {
          "output_type": "stream",
          "name": "stdout",
          "text": [
            "LABEL: 2\n",
            "\n",
            "IMAGE PIXEL ARRAY:\n",
            " [[  0   0   0   0   0   0   0   0  41  89 194 200 141  97 106 114 133 208 201  69   0   0   0   0   0   0   0   0]\n",
            " [  0   0   0   0   0   0   0 221 245 228 230 246 243 227 215 240 246 240 214 235 188  22   0   0   0   0   0   0]\n",
            " [  0   0   0   0   0   0 169 211 189 179 191 219 241 246 247 245 232 202 186 184 207 220   0   0   1   0   0   0]\n",
            " [  0   0   0   0   0  16 202 189 194 195 190 189 194 208 212 199 186 185 194 190 185 203  75   0   1   0   0   0]\n",
            " [  0   0   0   0   0  81 211 191 191 191 190 190 187 188 188 187 189 192 193 195 191 199 156   0   0   0   0   0]\n",
            " [  0   0   0   0   0 130 207 191 193 193 189 190 191 192 190 186 189 190 192 195 191 197 200   0   0   0   0   0]\n",
            " [  0   0   0   0   0 153 203 186 194 192 189 190 190 192 192 189 186 186 187 195 190 192 231  10   0   0   0   0]\n",
            " [  0   0   0   0   0 184 202 194 206 190 191 194 195 195 197 199 196 193 192 198 196 187 202  41   0   0   0   0]\n",
            " [  0   0   0   0   0 205 200 196 247 205 193 197 197 197 197 198 198 200 186 222 228 189 206  89   0   0   0   0]\n",
            " [  0   0   0   0   0 224 197 214 254 192 193 197 197 197 197 197 197 197 181 233 249 192 207 137   0   0   0   0]\n",
            " [  0   0   0   0  11 230 198 236 254 185 195 198 198 199 198 198 199 195 192 201 249 200 203 175   0   0   0   0]\n",
            " [  0   0   0   0  47 230 204 243 242 187 196 198 199 199 199 199 200 195 200 187 204 232 200 213   0   0   0   0]\n",
            " [  0   0   0   0  84 232 210 242 217 192 196 199 200 200 199 199 200 198 202 184 119 255 200 230   7   0   0   0]\n",
            " [  0   0   0   0 106 232 224 216 167 208 190 200 200 200 200 199 198 199 195 209  80 255 204 230  59   0   0   0]\n",
            " [  0   0   0   0 129 223 239 195 121 220 190 199 200 200 202 199 196 200 189 222  67 248 215 230  89   0   0   0]\n",
            " [  0   0   0   0 149 219 244 190 103 226 190 200 200 201 200 201 199 199 192 227  90 229 222 225 108   0   0   0]\n",
            " [  0   0   0   0 157 215 244 169 111 228 192 200 201 201 200 202 200 200 193 232  39 209 229 220 112   0   0   0]\n",
            " [  0   0   0   0 160 214 246 130 137 225 195 200 201 202 201 203 202 198 186 233  80 194 244 223 116   0   0   0]\n",
            " [  0   0   0   0 163 212 248 103 163 217 198 201 202 201 200 203 201 200 193 222 132 158 246 218 123   0   0   0]\n",
            " [  0   0   0   0 169 208 250 100 183 214 201 204 205 205 203 206 204 204 197 220 141 115 250 214 135   0   0   0]\n",
            " [  0   0   0   0 167 213 247  88 194 205 194 195 196 197 198 199 199 196 190 208 170  93 251 213 139   0   0   0]\n",
            " [  0   0   0   0 164 214 247  64 215 226 212 213 214 214 214 216 214 213 211 230 197  43 252 215 146   0   0   0]\n",
            " [  0   0   0   0 155 221 243  26 253 229 227 228 228 228 229 229 229 229 226 237 226   2 252 222 146   0   0   0]\n",
            " [  0   0   0   0 152 210 243  36 252 255 215 215 215 214 248 250 211 211 208 255 232   0 243 217 150   0   0   0]\n",
            " [  0   0   0   0 146 222 220   0   0   0   0   0   0   0   0   0   0   0   0   0   0   0 245 215 151   0   0   0]\n",
            " [  0   0   0   0 160 242 209   0   0   0   0   0   0   0   0   0   0   0   0   0   0   0 213 235 179   0   0   0]\n",
            " [  0   0   0   0 176 250 217   0   0   3   1   2   2   2   2   2   2   2   2   2   0   0 228 255 199   0   0   0]\n",
            " [  0   0   0   0   0  40  47   0   0   0   0   0   0   0   0   0   0   0   0   0   0   0  90 142  58   0   0   0]]\n"
          ]
        },
        {
          "output_type": "execute_result",
          "data": {
            "text/plain": [
              "<matplotlib.image.AxesImage at 0x7f39225adcf0>"
            ]
          },
          "metadata": {},
          "execution_count": 9
        },
        {
          "output_type": "display_data",
          "data": {
            "text/plain": [
              "<Figure size 640x480 with 1 Axes>"
            ],
            "image/png": "[encoded data removed]"
          },
          "metadata": {}
        }
      ]
    },
    {
      "cell_type": "code",
      "source": [
        "#normalize will transform into grey images\n",
        "#to normalize divide by 255\n",
        "# Normalize the pixel values of the train and test images\n",
        "training_images  = training_images / 255.0\n",
        "test_images = test_images / 255.0"
      ],
      "metadata": {
        "id": "dew3apSJygtp"
      },
      "execution_count": 10,
      "outputs": []
    },
    {
      "cell_type": "code",
      "source": [
        "\n",
        "# Build the classification model\n",
        "model = tf.keras.models.Sequential([tf.keras.layers.Flatten(),tf.keras.layers.Dense(128, activation=tf.nn.relu),tf.keras.layers.Dense(10, activation=tf.nn.softmax)])"
      ],
      "metadata": {
        "id": "K-p91dV-0Arg"
      },
      "execution_count": 11,
      "outputs": []
    },
    {
      "cell_type": "code",
      "source": [
        "#for better understanding\n",
        "# Declare sample inputs and convert to a tensor\n",
        "inputs = np.array([[1.0, 3.0, 4.0, 2.0]])\n",
        "inputs = tf.convert_to_tensor(inputs)\n",
        "print(f'input to softmax function: {inputs.numpy()}')\n",
        "\n",
        "# Feed the inputs to a softmax activation function\n",
        "outputs = tf.keras.activations.softmax(inputs)\n",
        "print(f'output of softmax function: {outputs.numpy()}')\n",
        "\n",
        "# Get the sum of all values after the softmax\n",
        "sum = tf.reduce_sum(outputs)\n",
        "print(f'sum of outputs: {sum}')\n",
        "\n",
        "# Get the index with highest value\n",
        "prediction = np.argmax(outputs)\n",
        "print(f'class with highest probability: {prediction}')"
      ],
      "metadata": {
        "colab": {
          "base_uri": "https://localhost:8080/"
        },
        "id": "DlLLxSJ629nO",
        "outputId": "a52c676a-5bcb-4afa-ac96-708aca123301"
      },
      "execution_count": 12,
      "outputs": [
        {
          "output_type": "stream",
          "name": "stdout",
          "text": [
            "input to softmax function: [[1. 3. 4. 2.]]\n",
            "output of softmax function: [[0.0320586  0.23688282 0.64391426 0.08714432]]\n",
            "sum of outputs: 1.0\n",
            "class with highest probability: 2\n"
          ]
        }
      ]
    },
    {
      "cell_type": "code",
      "source": [
        "model.compile(optimizer = tf.optimizers.Adam(),\n",
        "              loss = 'sparse_categorical_crossentropy',\n",
        "              metrics=['accuracy'])\n",
        "\n",
        "model.fit(training_images, training_labels, epochs=20,verbose=1)"
      ],
      "metadata": {
        "colab": {
          "base_uri": "https://localhost:8080/"
        },
        "id": "dH2HS1mD4AMt",
        "outputId": "4bca09fd-44df-4722-cb37-afd8507989e0"
      },
      "execution_count": 13,
      "outputs": [
        {
          "output_type": "stream",
          "name": "stdout",
          "text": [
            "Epoch 1/20\n",
            "1875/1875 [==============================] - 18s 9ms/step - loss: 0.4930 - accuracy: 0.8262\n",
            "Epoch 2/20\n",
            "1875/1875 [==============================] - 12s 7ms/step - loss: 0.3719 - accuracy: 0.8646\n",
            "Epoch 3/20\n",
            "1875/1875 [==============================] - 8s 4ms/step - loss: 0.3340 - accuracy: 0.8773\n",
            "Epoch 4/20\n",
            "1875/1875 [==============================] - 7s 4ms/step - loss: 0.3106 - accuracy: 0.8860\n",
            "Epoch 5/20\n",
            "1875/1875 [==============================] - 8s 4ms/step - loss: 0.2938 - accuracy: 0.8910\n",
            "Epoch 6/20\n",
            "1875/1875 [==============================] - 7s 4ms/step - loss: 0.2804 - accuracy: 0.8949\n",
            "Epoch 7/20\n",
            "1875/1875 [==============================] - 8s 4ms/step - loss: 0.2653 - accuracy: 0.9023\n",
            "Epoch 8/20\n",
            "1875/1875 [==============================] - 7s 4ms/step - loss: 0.2574 - accuracy: 0.9040\n",
            "Epoch 9/20\n",
            "1875/1875 [==============================] - 8s 4ms/step - loss: 0.2453 - accuracy: 0.9080\n",
            "Epoch 10/20\n",
            "1875/1875 [==============================] - 7s 4ms/step - loss: 0.2396 - accuracy: 0.9103\n",
            "Epoch 11/20\n",
            "1875/1875 [==============================] - 8s 4ms/step - loss: 0.2304 - accuracy: 0.9127\n",
            "Epoch 12/20\n",
            "1875/1875 [==============================] - 8s 4ms/step - loss: 0.2232 - accuracy: 0.9158\n",
            "Epoch 13/20\n",
            "1875/1875 [==============================] - 7s 4ms/step - loss: 0.2158 - accuracy: 0.9188\n",
            "Epoch 14/20\n",
            "1875/1875 [==============================] - 8s 4ms/step - loss: 0.2103 - accuracy: 0.9217\n",
            "Epoch 15/20\n",
            "1875/1875 [==============================] - 7s 4ms/step - loss: 0.2026 - accuracy: 0.9241\n",
            "Epoch 16/20\n",
            "1875/1875 [==============================] - 8s 4ms/step - loss: 0.1983 - accuracy: 0.9262\n",
            "Epoch 17/20\n",
            "1875/1875 [==============================] - 8s 4ms/step - loss: 0.1938 - accuracy: 0.9270\n",
            "Epoch 18/20\n",
            "1875/1875 [==============================] - 7s 4ms/step - loss: 0.1895 - accuracy: 0.9283\n",
            "Epoch 19/20\n",
            "1875/1875 [==============================] - 9s 5ms/step - loss: 0.1823 - accuracy: 0.9316\n",
            "Epoch 20/20\n",
            "1875/1875 [==============================] - 7s 4ms/step - loss: 0.1791 - accuracy: 0.9323\n"
          ]
        },
        {
          "output_type": "execute_result",
          "data": {
            "text/plain": [
              "<keras.src.callbacks.History at 0x7f39224fbbe0>"
            ]
          },
          "metadata": {},
          "execution_count": 13
        }
      ]
    },
    {
      "cell_type": "code",
      "source": [
        "model.compile(optimizer = tf.optimizers.Adam(),\n",
        "              loss = 'sparse_categorical_crossentropy',\n",
        "              metrics=['accuracy'])\n",
        "\n",
        "model.fit(training_images, training_labels, epochs=10,verbose=0)"
      ],
      "metadata": {
        "colab": {
          "base_uri": "https://localhost:8080/"
        },
        "id": "JrKc144s4Ug-",
        "outputId": "0c2e8efe-084d-46ab-dd2d-444c92e562e9"
      },
      "execution_count": 14,
      "outputs": [
        {
          "output_type": "execute_result",
          "data": {
            "text/plain": [
              "<keras.src.callbacks.History at 0x7f3926fbffd0>"
            ]
          },
          "metadata": {},
          "execution_count": 14
        }
      ]
    },
    {
      "cell_type": "code",
      "source": [
        "\n",
        "# Evaluate the model on unseen data\n",
        "model.evaluate(test_images, test_labels)"
      ],
      "metadata": {
        "colab": {
          "base_uri": "https://localhost:8080/"
        },
        "id": "W7Rg7qE87OCW",
        "outputId": "3ffa751c-c10f-46ca-fe81-3fca4e291182"
      },
      "execution_count": 15,
      "outputs": [
        {
          "output_type": "stream",
          "name": "stdout",
          "text": [
            "313/313 [==============================] - 1s 2ms/step - loss: 0.3928 - accuracy: 0.8895\n"
          ]
        },
        {
          "output_type": "execute_result",
          "data": {
            "text/plain": [
              "[0.39283865690231323, 0.8895000219345093]"
            ]
          },
          "metadata": {},
          "execution_count": 15
        }
      ]
    },
    {
      "cell_type": "code",
      "source": [
        "classifications = model.predict(test_images)\n",
        "\n",
        "print(classifications[0])"
      ],
      "metadata": {
        "colab": {
          "base_uri": "https://localhost:8080/"
        },
        "id": "CFmKmP9O7naE",
        "outputId": "45780cfb-50c0-437f-d01d-5128b0cc6cd8"
      },
      "execution_count": 16,
      "outputs": [
        {
          "output_type": "stream",
          "name": "stdout",
          "text": [
            "313/313 [==============================] - 1s 2ms/step\n",
            "[1.9536334e-14 7.4695832e-18 1.8867297e-15 9.0565776e-21 1.9120417e-19 1.2603124e-06 9.7643894e-17 3.1110681e-06 9.6647156e-11 9.9999553e-01]\n"
          ]
        }
      ]
    },
    {
      "cell_type": "code",
      "source": [],
      "metadata": {
        "id": "l7OUfQu47sFE"
      },
      "execution_count": 16,
      "outputs": []
    }
  ]
}